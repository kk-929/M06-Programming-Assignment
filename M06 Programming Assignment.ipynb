{
 "cells": [
  {
   "cell_type": "code",
   "execution_count": 2,
   "id": "e57e7fa1",
   "metadata": {},
   "outputs": [],
   "source": [
    " from datetime import date\n",
    "\n",
    "\n",
    "current_date = date.today()\n",
    "\n",
    "\n",
    "date_string = current_date.strftime(\"%Y-%m-%d\")\n",
    "\n",
    "\n",
    "file_path = \"today.txt\"\n",
    "with open(file_path, 'w') as file:\n",
    "    file.write(date_string)\n"
   ]
  },
  {
   "cell_type": "code",
   "execution_count": 5,
   "id": "c17931ea",
   "metadata": {},
   "outputs": [
    {
     "name": "stdout",
     "output_type": "stream",
     "text": [
      "2024-02-25\n"
     ]
    }
   ],
   "source": [
    "\n",
    "file_path = \"today.txt\"\n",
    "with open(file_path, 'r') as file:\n",
    "   today_string = file.read()\n",
    "print(today_string)"
   ]
  },
  {
   "cell_type": "code",
   "execution_count": 7,
   "id": "0cdf72e3",
   "metadata": {},
   "outputs": [
    {
     "name": "stdout",
     "output_type": "stream",
     "text": [
      "2024-02-25 00:00:00\n"
     ]
    }
   ],
   "source": [
    "from datetime import datetime\n",
    "\n",
    "\n",
    "today_string = \"2024-02-25\" \n",
    "\n",
    "\n",
    "parsed_date = datetime.strptime(today_string, \"%Y-%m-%d\")\n",
    "\n",
    "print( parsed_date)"
   ]
  },
  {
   "cell_type": "code",
   "execution_count": 10,
   "id": "4ea262a0",
   "metadata": {},
   "outputs": [],
   "source": [
    "import multiprocessing\n",
    "import time\n",
    "import random\n",
    "from datetime import datetime\n",
    "\n",
    "def process_function():\n",
    "    sleep_time = random.random()\n",
    "    \n",
    "    time.sleep(sleep_time)\n",
    "    \n",
    "\n",
    "    current_time = datetime.now().strftime(\"%H:%M:%S\")\n",
    "    \n",
    "\n",
    "    print(f\"Process {multiprocessing.current_process().name}: Current Time - {current_time}\")\n",
    "\n",
    "if __name__ == \"__main__\":\n",
    "    processes = []\n",
    "    for i in range(3):\n",
    "        process = multiprocessing.Process(target=process_function, name=f\"Process-{i+1}\")\n",
    "        processes.append(process)\n",
    "        process.start()\n",
    "\n",
    "    for process in processes:\n",
    "        process.join()"
   ]
  },
  {
   "cell_type": "code",
   "execution_count": null,
   "id": "cd63538b",
   "metadata": {},
   "outputs": [],
   "source": []
  }
 ],
 "metadata": {
  "kernelspec": {
   "display_name": "Python 3 (ipykernel)",
   "language": "python",
   "name": "python3"
  },
  "language_info": {
   "codemirror_mode": {
    "name": "ipython",
    "version": 3
   },
   "file_extension": ".py",
   "mimetype": "text/x-python",
   "name": "python",
   "nbconvert_exporter": "python",
   "pygments_lexer": "ipython3",
   "version": "3.11.5"
  }
 },
 "nbformat": 4,
 "nbformat_minor": 5
}
